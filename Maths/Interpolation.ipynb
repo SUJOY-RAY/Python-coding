{
  "nbformat": 4,
  "nbformat_minor": 0,
  "metadata": {
    "colab": {
      "provenance": [],
      "collapsed_sections": [
        "WzV4jsSXpUPD",
        "bf2vvptqrwh2"
      ],
      "mount_file_id": "1f8o1dy1OirGnAOFYxDhlFIlCpRY7j-l2",
      "authorship_tag": "ABX9TyMeBZ5M1xnfZBjPcpPDdwrR",
      "include_colab_link": true
    },
    "kernelspec": {
      "name": "python3",
      "display_name": "Python 3"
    },
    "language_info": {
      "name": "python"
    }
  },
  "cells": [
    {
      "cell_type": "markdown",
      "metadata": {
        "id": "view-in-github",
        "colab_type": "text"
      },
      "source": [
        "<a href=\"https://colab.research.google.com/github/SUJOY-RAY/Python-4th-sem/blob/main/Interpolation.ipynb\" target=\"_parent\"><img src=\"https://colab.research.google.com/assets/colab-badge.svg\" alt=\"Open In Colab\"/></a>"
      ]
    },
    {
      "cell_type": "markdown",
      "source": [
        "# **Newton Forward Interpolation**"
      ],
      "metadata": {
        "id": "WzV4jsSXpUPD"
      }
    },
    {
      "cell_type": "code",
      "execution_count": null,
      "metadata": {
        "id": "QN43egDujJx9"
      },
      "outputs": [],
      "source": [
        "def factorial(n):\n",
        "  if n==0:\n",
        "    return 1\n",
        "  else:\n",
        "    return n*factorial(n-1)\n"
      ]
    },
    {
      "cell_type": "code",
      "source": [
        "def forward_interpolation(x,xi,fi):\n",
        "  n=len(xi)\n",
        "  h=xi[1]-xi[0]\n",
        "  u=(x-xi[0])/h\n",
        "  result=fi[0]\n",
        "  for i in range(1,n):\n",
        "    term=(u-i-1)/i\n",
        "    for j in range(i):\n",
        "      term*=(u-j)\n",
        "    result+=(term*fi[i])/factorial(i)\n",
        "  return result"
      ],
      "metadata": {
        "id": "n1lBjNqgpi4u"
      },
      "execution_count": null,
      "outputs": []
    },
    {
      "cell_type": "code",
      "source": [
        "xi = [0, 1, 2, 3, 4]\n",
        "fi = [1, 2, 4, 8, 16]\n",
        "x=2.5\n",
        "y=forward_interpolation(x,xi,fi)\n",
        "print(\"Interpolated value at x =\", x, \":\",y)"
      ],
      "metadata": {
        "colab": {
          "base_uri": "https://localhost:8080/"
        },
        "id": "Ww4opTbKqK8p",
        "outputId": "9dbfab88-4990-4081-a601-139641cf4649"
      },
      "execution_count": null,
      "outputs": [
        {
          "output_type": "stream",
          "name": "stdout",
          "text": [
            "Interpolated value at x = 2.5 : 0.765625\n"
          ]
        }
      ]
    },
    {
      "cell_type": "markdown",
      "source": [
        "# **LAGRANGE INTERPOLATION**"
      ],
      "metadata": {
        "id": "bf2vvptqrwh2"
      }
    },
    {
      "cell_type": "code",
      "source": [
        "def lagrange_interpolation(x,xi,yi):\n",
        "  n=len(xi)\n",
        "  result=0\n",
        "  for i in range(n):\n",
        "    term=yi[i]\n",
        "    for j in range(n):\n",
        "      if(j!=i):\n",
        "        term*=(x-xi[j])/(xi[i]-xi[j])\n",
        "    result+=term\n",
        "  return result"
      ],
      "metadata": {
        "id": "2byDAK-hr4m6"
      },
      "execution_count": null,
      "outputs": []
    },
    {
      "cell_type": "code",
      "source": [
        "xi = [0, 1, 2, 3, 4]  # x values\n",
        "yi = [1, 2, 4, 8, 16]  # Corresponding y values\n",
        "x = 2.5\n",
        "\n",
        "result = lagrange_interpolation(x, xi, yi)\n",
        "print(\"Interpolated value at x =\", x, \":\", result)\n"
      ],
      "metadata": {
        "colab": {
          "base_uri": "https://localhost:8080/"
        },
        "id": "Wr044aMDseX9",
        "outputId": "8f6e38e9-7438-47ad-a76b-4fd618230a2b"
      },
      "execution_count": null,
      "outputs": [
        {
          "output_type": "stream",
          "name": "stdout",
          "text": [
            "Interpolated value at x = 2.5 : 5.6484375\n"
          ]
        }
      ]
    }
  ]
}