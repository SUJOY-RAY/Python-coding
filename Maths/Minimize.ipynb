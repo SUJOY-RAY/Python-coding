{
  "nbformat": 4,
  "nbformat_minor": 0,
  "metadata": {
    "colab": {
      "provenance": [],
      "authorship_tag": "ABX9TyM4BR/6myzQ3gNKE3Bs+uMK",
      "include_colab_link": true
    },
    "kernelspec": {
      "name": "python3",
      "display_name": "Python 3"
    },
    "language_info": {
      "name": "python"
    }
  },
  "cells": [
    {
      "cell_type": "markdown",
      "metadata": {
        "id": "view-in-github",
        "colab_type": "text"
      },
      "source": [
        "<a href=\"https://colab.research.google.com/github/SUJOY-RAY/Python-4th-sem/blob/main/Minimize.ipynb\" target=\"_parent\"><img src=\"https://colab.research.google.com/assets/colab-badge.svg\" alt=\"Open In Colab\"/></a>"
      ]
    },
    {
      "cell_type": "markdown",
      "source": [
        "#**Minimizing a function using BFGS**"
      ],
      "metadata": {
        "id": "_5sdl9LdW0Gf"
      }
    },
    {
      "cell_type": "code",
      "execution_count": 4,
      "metadata": {
        "colab": {
          "base_uri": "https://localhost:8080/"
        },
        "id": "A3rPYIdfWodJ",
        "outputId": "82d881df-ab18-4796-e65d-c99ce787d1ea"
      },
      "outputs": [
        {
          "output_type": "stream",
          "name": "stdout",
          "text": [
            "Optimal x: [2.99999998]\n",
            "Minimum value: 2.5388963550532293e-16\n",
            "Optimization success: True\n",
            "Message: Optimization terminated successfully.\n"
          ]
        }
      ],
      "source": [
        "import numpy as np\n",
        "from scipy.optimize import minimize\n",
        "\n",
        "# Define the function to be minimized\n",
        "def objective_function(x):\n",
        "    return (x - 3) ** 2\n",
        "\n",
        "# Initial guess\n",
        "x0 = np.array([0])  # Starting point for the optimization\n",
        "\n",
        "# Minimize the function\n",
        "result = minimize(objective_function, x0, method='BFGS')\n",
        "\n",
        "print(\"Optimal x:\", result.x)\n",
        "print(\"Minimum value:\", result.fun)\n",
        "print(\"Optimization success:\", result.success)\n",
        "print(\"Message:\", result.message)\n"
      ]
    },
    {
      "cell_type": "markdown",
      "source": [
        "# **Minimize a function using linprog**\n",
        "\n",
        "### Problem Setup\n",
        "Consider a simple problem where you want to minimize the following linear objective function:\n",
        "\\[ z = 3x_1 + 2x_2 \\]\n",
        "\n",
        "Subject to the following linear constraints:\n",
        "1. \\( x_1 + x_2 \\>= 3 \\)\n",
        "2. \\( 2x_1 + x_2 \\<= 5 \\)\n",
        "3. \\( x_1, x_2 \\>= 0 \\)"
      ],
      "metadata": {
        "id": "MT7agDX4XT_E"
      }
    },
    {
      "cell_type": "code",
      "source": [
        "import numpy as np\n",
        "from scipy.optimize import linprog\n",
        "\n",
        "# Coefficients for the objective function\n",
        "c = [3, 2]\n",
        "\n",
        "# Coefficients for the inequality constraints (Ax <= b)\n",
        "A = [\n",
        "    [-1, -1],  # for constraint x1 + x2 >= 3, we use -1 because linprog considers <=\n",
        "    [2, 1],  # for constraint 2x1 + x2 <= 5\n",
        "]\n",
        "\n",
        "# Constants for the inequality constraints\n",
        "b = [-3, 5]  # corresponding to x1 + x2 >= 3 and 2x1 + x2 <= 5\n",
        "\n",
        "# Bounds for x1 and x2 (non-negative values)\n",
        "x_bounds = (0, None)  # this sets x1 >= 0\n",
        "y_bounds = (0, None)  # this sets x2 >= 0\n",
        "\n",
        "# Solve the linear optimization problem\n",
        "result = linprog(c=c,A_ub=A, b_ub=b,bounds=[x_bounds, y_bounds], method='highs')\n",
        "\n",
        "print(\"Optimal solution:\", result.x)\n",
        "print(\"Minimum value of the objective function:\", result.fun)\n",
        "print(\"Optimization success:\", result.success)\n",
        "print(\"Message:\", result.message)\n"
      ],
      "metadata": {
        "id": "U_l0Py5eXSaW",
        "colab": {
          "base_uri": "https://localhost:8080/"
        },
        "outputId": "4fffd237-7ae9-4ed3-a6d7-caaae855fc32"
      },
      "execution_count": 5,
      "outputs": [
        {
          "output_type": "stream",
          "name": "stdout",
          "text": [
            "Optimal solution: [0. 3.]\n",
            "Minimum value of the objective function: 6.0\n",
            "Optimization success: True\n",
            "Message: Optimization terminated successfully. (HiGHS Status 7: Optimal)\n"
          ]
        }
      ]
    },
    {
      "cell_type": "markdown",
      "source": [
        "Q) Suppose you are working in Online Store of Inventory Management. You are tasked with optimizing the inventory management system for an online store. The store sells various products, each with its own demand pattern and restocking requirements. Your goal is to write a Python program that minimizes restocking costs while ensuring that customer demands are met. You will be given a list of products, where each product has the following attributes and Each product's demand cannot be met if the current stock is insufficient, and hence, restocking might be required."
      ],
      "metadata": {
        "id": "ruLFxujdgIQL"
      }
    },
    {
      "cell_type": "code",
      "source": [
        "# Define a class for representing each product\n",
        "class Product:\n",
        "    def __init__(self, product_id, current_stock, demand_forecast, restock_cost):\n",
        "        self.product_id = product_id\n",
        "        self.current_stock = current_stock\n",
        "        self.demand_forecast = demand_forecast\n",
        "        self.restock_cost = restock_cost\n",
        "\n",
        "# Function to determine restocking needs\n",
        "def calculate_restock(products):\n",
        "    restocking_report = []\n",
        "\n",
        "    for product in products:\n",
        "        total_forecasted_demand = sum(product.demand_forecast)\n",
        "        # Check if restocking is required\n",
        "        if product.current_stock < total_forecasted_demand:\n",
        "            required_restock = total_forecasted_demand - product.current_stock\n",
        "            restocking_cost = required_restock * product.restock_cost\n",
        "            restocking_report.append({\n",
        "                \"product_id\": product.product_id,\n",
        "                \"required_restock\": required_restock,\n",
        "                \"restocking_cost\": restocking_cost\n",
        "            })\n",
        "        else:\n",
        "            restocking_report.append({\n",
        "                \"product_id\": product.product_id,\n",
        "                \"required_restock\": 0,\n",
        "                \"restocking_cost\": 0\n",
        "            })\n",
        "\n",
        "    return restocking_report\n",
        "\n",
        "# Test the code with a list of products\n",
        "products = [\n",
        "    Product(\"P1\", 50, [10, 15, 20, 25], 12),  # Total demand = 70, current stock = 50\n",
        "    Product(\"P2\", 200, [30, 25, 20, 15], 10),  # Total demand = 90, current stock = 200\n",
        "    Product(\"P3\", 80, [25, 35, 45, 55], 15),  # Total demand = 160, current stock = 80\n",
        "]\n",
        "\n",
        "# Calculate the restocking report\n",
        "restocking_report = calculate_restock(products)\n",
        "\n",
        "# Output the results\n",
        "for report in restocking_report:\n",
        "    print(f\"Product ID: {report['product_id']}, Required Restock: {report['required_restock']}, Restocking Cost: {report['restocking_cost']}\")\n"
      ],
      "metadata": {
        "colab": {
          "base_uri": "https://localhost:8080/"
        },
        "id": "YKXIdxuqgHkf",
        "outputId": "3fbe46c7-a3e3-4029-ab65-61e53e09714f"
      },
      "execution_count": 8,
      "outputs": [
        {
          "output_type": "stream",
          "name": "stdout",
          "text": [
            "Product ID: P1, Required Restock: 20, Restocking Cost: 240\n",
            "Product ID: P2, Required Restock: 0, Restocking Cost: 0\n",
            "Product ID: P3, Required Restock: 80, Restocking Cost: 1200\n"
          ]
        }
      ]
    }
  ]
}